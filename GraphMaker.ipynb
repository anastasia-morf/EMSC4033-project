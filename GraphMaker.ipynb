{
 "cells": [
  {
   "cell_type": "markdown",
   "id": "0cd19d76-3681-4156-a17c-aed5e7e9537c",
   "metadata": {},
   "source": [
    "# Introduction to Python utilities for LiPD files\n",
    "\n",
    "### <font color='teal'>GraphMaker</font>\n",
    "\n",
    "\n",
    "This module will teach you the basic utilities for LiPD files, including how to: \n",
    "- Read LiPD files \n",
    "- Extract timeseries objects \n",
    "- Filter Datasets\n",
    "- Visualise Information \n",
    "\n",
    "To find the code.. access...\n",
    "you can import your information on this module to create ... otherwise, you can find the code...\n",
    "\n",
    "### The code\n",
    "\n",
    "\n",
    "To see how the functions are created..."
   ]
  },
  {
   "cell_type": "code",
   "execution_count": 1,
   "id": "f8d71a31-0a1c-43fa-a894-cecc7205574b",
   "metadata": {},
   "outputs": [],
   "source": [
    "from src.my_functions import *\n",
    "from src.dependencies import *"
   ]
  },
  {
   "cell_type": "code",
   "execution_count": 2,
   "id": "382ceb57-92c3-4174-a904-6d02dd1077a4",
   "metadata": {},
   "outputs": [],
   "source": [
    "import lipd"
   ]
  },
  {
   "cell_type": "markdown",
   "id": "b911407d-fd01-44cd-9559-b95d7825034a",
   "metadata": {},
   "source": [
    "#### Reading LiPD files \n",
    "\n",
    "You can find LiPD files from online data repositories, such as  [NOAA](https://www.ncei.noaa.gov/access/paleo-search/), [LinkedEarth Wiki](http://wiki.linked.earth/Main_Page) and [PANGAEA](https://www.pangaea.de/). \n",
    "You can either download them on your platform or access them through URLs.\n",
    "\n",
    "To read the LiPD files, there are two important functions we need to learn:\n",
    "\n",
    "<div class=\"alert alert-block alert-success\">\n",
    "<b>lipd.readLipd(usr_path=)</b> </div>\n",
    "\n",
    "This function will read the LiPD files.\n",
    "\n",
    "&nbsp;&nbsp;&nbsp;&nbsp;&nbsp;&nbsp;**Parameters:**  \n",
    "&nbsp;&nbsp;&nbsp;&nbsp;&nbsp;&nbsp;usr_path: path to the file or directory \n",
    "\n",
    "&nbsp;&nbsp;&nbsp;&nbsp;&nbsp;&nbsp;**Returns:**  \n",
    "&nbsp;&nbsp;&nbsp;&nbsp;&nbsp;&nbsp;Metadata\n",
    "\n",
    "\n",
    "<div class=\"alert alert-block alert-success\">\n",
    "<b>lipd.extractTs(d, chron=False)</b> </div>\n",
    "\n",
    "This function will create an array of dictionaries contained within variable d. These are the time series extracted from the LiPD files - each file can have multiple proxies that are measured, and therefore, multiple time series.\n",
    "\n",
    "&nbsp;&nbsp;&nbsp;&nbsp;&nbsp;&nbsp;**Parameters:**  \n",
    "&nbsp;&nbsp;&nbsp;&nbsp;&nbsp;&nbsp;d (dict): Metadata  \n",
    "&nbsp;&nbsp;&nbsp;&nbsp;&nbsp;&nbsp;chron (bool): chronData time series\n",
    "\n",
    "&nbsp;&nbsp;&nbsp;&nbsp;&nbsp;&nbsp;**Returns:**  \n",
    "&nbsp;&nbsp;&nbsp;&nbsp;&nbsp;&nbsp;Time series\n",
    "    \n",
    "**Example**\n",
    "#CHNAGE TO A URL"
   ]
  },
  {
   "cell_type": "code",
   "execution_count": 3,
   "id": "93498ede-e5ea-4519-8f48-7ad1b3a4e174",
   "metadata": {},
   "outputs": [
    {
     "name": "stdout",
     "output_type": "stream",
     "text": [
      "Disclaimer: LiPD files may be updated and modified to adhere to standards\n",
      "\n",
      "reading: DomeF.Uemura.2018.lpd\n",
      "Finished read: 1 record\n",
      "extracting paleoData...\n",
      "extracting: DomeF.Uemura.2018\n",
      "Created time series: 14 entries\n"
     ]
    }
   ],
   "source": [
    "path = 'C:/Users/anast/Desktop/DomeF.Uemura.2018.lpd' #Define the path to the file or directory - this file is available in the assignment 2 folder, under \n",
    "data = lipd.readLipd(usr_path = path)\n",
    "ts = lipd.extractTs(data)"
   ]
  },
  {
   "cell_type": "markdown",
   "id": "85a95a49-f50e-4437-a73f-37f81a9a0918",
   "metadata": {},
   "source": [
    "It will be useful here to print out the keys contained within one of the time series, to understand what we are dealing with a little bit better. You can do this using:\n",
    "\n",
    "<div class=\"alert alert-block alert-success\">\n",
    "<b>lipd.viewTs(ts)</b> </div>\n",
    "\n",
    "This function will return the contents of the time series defined above.\n",
    "\n",
    "&nbsp;&nbsp;&nbsp;&nbsp;&nbsp;&nbsp;**Parameters:**  \n",
    "&nbsp;&nbsp;&nbsp;&nbsp;&nbsp;&nbsp;usr_path: ts(dict): the time series entry\n",
    "\n",
    "&nbsp;&nbsp;&nbsp;&nbsp;&nbsp;&nbsp;**Returns:**  \n",
    "&nbsp;&nbsp;&nbsp;&nbsp;&nbsp;&nbsp; text\n",
    "\n",
    "**Example**\n"
   ]
  },
  {
   "cell_type": "code",
   "execution_count": 4,
   "id": "324d2dda-782d-4817-ab8e-2e21b79650e0",
   "metadata": {
    "tags": []
   },
   "outputs": [
    {
     "name": "stdout",
     "output_type": "stream",
     "text": [
      "It looks like you input a full time series. It's best to view one entry at a time.\n",
      "I'll show you the first entry...\n",
      "\n",
      "ROOT\n",
      "===============\n",
      "dataSetName : DomeF.Uemura.2018\n",
      "archiveType : GlacierIce\n",
      "lipdVersion : 1.3\n",
      "\n",
      "PUBLICATION\n",
      "===============\n",
      "pub1_author : Parrenin, F.; Dreyfus, G.; Durand, G.; Fujita, S.; Gagliardini, O.; Gillet, F.; Jouzel, J.; Kawamura, K.; Lhomme, N.; Masson-Delmotte, V.; Ritz, C.; Schwander, J.; Shoji, H.; Uemura, R.; Watanabe, O.; Yoshida, N.\n",
      "pub1_title : 1-D-ice flow modelling at EPICA Dome C and Dome Fuji, East Antarctica\n",
      "pub1_year : 2007\n",
      "pub1_journal : Climate of the Past\n",
      "pub1_issue : 2\n",
      "pub1_volume : 3\n",
      "pub1_doi : 10.5194/cp-3-243-2007\n",
      "pub1_publisher : Copernicus GmbH\n",
      "pub1_type : article-journal\n",
      "pub1_pages : 243   259\n",
      "pub1_citeKey : P8DGB5VT\n",
      "pub2_author : Uemura, R.;Yoshida, N.;Kurita, N.;Nakawo, M.;Watanabe, O.\n",
      "pub2_title : An observation-based method for reconstructing ocean surface changes using a 340,000-year deuterium excess record from the Dome Fuji ice core, Antarctica\n",
      "pub2_year : 2004\n",
      "pub2_journal : Geophysical Research Letters\n",
      "pub2_issue : 13\n",
      "pub2_volume : 31\n",
      "pub2_doi : 10.1029/2004GL019954\n",
      "pub2_publisher : American Geophysical Union (AGU)\n",
      "pub2_type : article-journal\n",
      "pub2_pages : n/a-n/a\n",
      "pub3_author : Vimeux, Françoise;Cuffey, Kurt M.;Jouzel, Jean\n",
      "pub3_title : New insights into Southern Hemisphere temperature changes from Vostok ice cores using deuterium excess correction\n",
      "pub3_year : 2002\n",
      "pub3_journal : Earth and Planetary Science Letters\n",
      "pub3_issue : 3-4\n",
      "pub3_volume : 203\n",
      "pub3_doi : 10.1016/S0012-821X(02)00950-0\n",
      "pub3_publisher : Elsevier BV\n",
      "pub3_type : article-journal\n",
      "pub3_pages : 829-843\n",
      "pub4_author : Stenni, B.;Jouzel, J.;Masson-Delmotte, V.;Röthlisberger, R.;Castellano, E.;Cattani, O.;Falourd, S.;Johnsen, S.J.;Longinelli, A.;Sachs, J.P.\n",
      "pub4_title : A late-glacial high-resolution site and source temperature record derived from the EPICA Dome C isotope records (East Antarctica)\n",
      "pub4_year : 2004\n",
      "pub4_journal : Earth and Planetary Science Letters\n",
      "pub4_issue : 1-2\n",
      "pub4_volume : 217\n",
      "pub4_doi : 10.1016/S0012-821X(03)00574-0\n",
      "pub4_publisher : Elsevier BV\n",
      "pub4_type : article-journal\n",
      "pub4_pages : 183-195\n",
      "pub5_author : Watanabe, O.;Jouzel, J.;Johnsen, S.;Parrenin, F.;Shoji, H.;Yoshida, N.\n",
      "pub5_title : Homogeneous climate variability across East Antarctica over the past three glacial cycles\n",
      "pub5_year : 2003\n",
      "pub5_journal : Nature\n",
      "pub5_issue : 6931\n",
      "pub5_volume : 422\n",
      "pub5_doi : 10.1038/nature01525\n",
      "pub5_publisher : Springer Nature\n",
      "pub5_type : article-journal\n",
      "pub5_pages : 509-512\n",
      "\n",
      "GEO\n",
      "===============\n",
      "geo_meanLon : 39.67\n",
      "geo_meanLat : -77.3167\n",
      "geo_meanElev : 3810.0\n",
      "geo_siteName : Dome Fuji\n",
      "geo_location : Antarctica\n",
      "geo_countryOcean : Antarctica\n",
      "geo_gcmdLocation : Antarctica\n",
      "\n",
      "OTHERS\n",
      "===============\n",
      "time_id : 5.625\n",
      "createdBy : lipd.net\n",
      "lipdComplete : 100%\n",
      "nUniqueAges : 0\n",
      "maxYear : 715892\n",
      "minYear : -61\n",
      "lipdverseLink : http://lipdverse.org/Temp12k/1_0_2/DomeF.Uemura.2018.html\n",
      "hasDepth : 0\n",
      "datasetId : VcX5CaTgXwuCCXTakJtZ\n",
      "originalDataUrl : www.ncdc.noaa.gov/paleo/study/23371\n",
      "changelog : [{'version': '1.0.1', 'lastVersion': '1.0.0', 'curator': 'nick', 'timestamp': '2020-10-08 12:41:08 UTC', 'changes': {'Paleo Column metadata': [[\"d18O (RLHDnyOGbpD): paleoData_proxyGeneral: '' has been replaced by 'isotope'\"], [\"d2H (RvQ5nQAszvm): paleoData_proxyGeneral: '' has been replaced by 'isotope'\"]]}}, {'version': '1.0.0', 'curator': 'nick', 'timestamp': '2020-08-21 15:34:37 UTC', 'notes': 'This marks the creation of the changelog, and marks the status of this dataset as of Temp12k version 1.0.1', 'changes': {'Setup': [['Changelog created']]}}]\n",
      "tableType : meas\n",
      "depth.top : [1.63, 3.11, 5.13, ...]\n",
      "depth.topUnits : m\n",
      "depth.bottom : [1.99, 3.6, 5.47, ...]\n",
      "depth.bottomUnits : m\n",
      "age : [-61.0, -33.0, 6.0, ...]\n",
      "ageUnits : BP\n",
      "\n",
      "DATA\n",
      "===============\n",
      "paleoData_tableName : paleo0measurement0\n",
      "paleoData_missingValue : nan\n",
      "paleoData_filename : DomeF.Uemura.2018.paleo0measurement0.csv\n",
      "paleoData_variableName : depth.top\n",
      "paleoData_units : m\n",
      "paleoData_description : depth at sample start,,,m,,,,,N,Data from Dome fuji first core from 0 to 2401.91 m; Data from Dome Fuji second core from 2399.5m to 3035.025m. (There are apparent depth reversal at the connetion depth (around 2400 m) due to different drilling sites)\n",
      "paleoData_variableNameOriginal : depth_top\n",
      "paleoData_TSid : RlfhIJZYF1B\n",
      "paleoData_hasMean : 1753.1166\n",
      "paleoData_hasMedian : 2399.455\n",
      "paleoData_hasMax : 2456.9\n",
      "paleoData_hasMin : 1.63\n",
      "paleoData_medianRes12k : 70\n",
      "paleoData_meanValue12k : 167.5258\n",
      "paleoData_hasResolution_hasMinValue : 16.0\n",
      "paleoData_hasResolution_hasMaxValue : 2513.0\n",
      "paleoData_hasResolution_hasMeanValue : 95.85660731021555\n",
      "paleoData_hasResolution_hasMedianValue : 69.0\n",
      "paleoData_number : 1\n",
      "paleoData_values : [1.63, 3.11, 5.13, ...]\n",
      "paleoData_hasMinValue : 1.63\n",
      "paleoData_hasMaxValue : 3035.03\n",
      "paleoData_hasMeanValue : 2513.601970541401\n",
      "paleoData_hasMedianValue : 2657.55\n"
     ]
    }
   ],
   "source": [
    "lipd.viewTs(ts) #This will show the first entry"
   ]
  },
  {
   "cell_type": "markdown",
   "id": "01663b97-b51a-4c65-828e-adfef7db5cba",
   "metadata": {
    "tags": []
   },
   "source": [
    "#### Plotting\n",
    "By looking at the output of the above function, we can now identify the variables we need for plotting the data series contained within the file. We can also display any time series that we need:"
   ]
  },
  {
   "cell_type": "code",
   "execution_count": 5,
   "id": "cd97f78e-8090-4f40-8189-7c660c2487ee",
   "metadata": {},
   "outputs": [],
   "source": [
    "import matplotlib.pyplot as plt\n",
    "import numpy as np\n",
    "from  matplotlib.pyplot import figure\n",
    "\n",
    "\n",
    "def make_plot(data):\n",
    "    #Define variables\n",
    "    year = data['age'] #note: these may also be saved as 'year' in certain files \n",
    "    # values = listToString(data['paleoData_values'])    \n",
    "    values = np.sort(data['paleoData_values'])\n",
    "\n",
    "\n",
    "    #Make the figure\n",
    "    plt.plot(year,values)\n",
    "    plt.title(\"Name: \"+data['dataSetName']+\", archive: \"+data['archiveType'])\n",
    "    plt.xlabel(data['ageUnits']) #Note! These may also be saved as 'yearUnits' in certain files \n",
    "    plt.ylabel(data['paleoData_variableName'])\n",
    "    plt.gca().invert_xaxis() # Here, I have inverted the x-axis. This is just a preference and is optional.\n",
    "    #plt.gca().invert_yaxis() # Here, I have inverted the y-axis. This is just a preference and is optional.\n",
    "\n",
    "    return plt.show()"
   ]
  },
  {
   "cell_type": "code",
   "execution_count": 6,
   "id": "cbb990de-ad30-4bf3-899e-87f40f79a8d7",
   "metadata": {},
   "outputs": [],
   "source": [
    "def final_plot(data):\n",
    "    for data in ts: \n",
    "        if any (x in data[\"paleoData_variableName\"] for x in {\"age\",\"depth\",\"year\"}): #removing these as they are not useful in this case\n",
    "            continue \n",
    "        else:\n",
    "            figure(figsize=(5, 10))\n",
    "            make_plot(data)"
   ]
  },
  {
   "cell_type": "code",
   "execution_count": 7,
   "id": "423c51df-323b-4554-866f-3b0b75f9df35",
   "metadata": {
    "tags": []
   },
   "outputs": [],
   "source": [
    "# for key, value in data.items():\n",
    "#     print(key, value)\n"
   ]
  },
  {
   "cell_type": "code",
   "execution_count": null,
   "id": "64d01bb6-51e5-48f4-baa3-775bb706b72f",
   "metadata": {},
   "outputs": [
    {
     "data": {
      "image/png": "[encoded data removed]",
      "text/plain": [
       "<Figure size 360x720 with 1 Axes>"
      ]
     },
     "metadata": {
      "needs_background": "light"
     },
     "output_type": "display_data"
    },
    {
     "data": {
      "image/png": "[encoded data removed]",
      "text/plain": [
       "<Figure size 360x720 with 1 Axes>"
      ]
     },
     "metadata": {
      "needs_background": "light"
     },
     "output_type": "display_data"
    },
    {
     "data": {
      "image/png": "[encoded data removed]",
      "text/plain": [
       "<Figure size 360x720 with 1 Axes>"
      ]
     },
     "metadata": {
      "needs_background": "light"
     },
     "output_type": "display_data"
    }
   ],
   "source": [
    "final_plot(data)"
   ]
  },
  {
   "cell_type": "code",
   "execution_count": null,
   "id": "75f557af-2169-42de-bf2f-7a4f7ad53ebb",
   "metadata": {},
   "outputs": [],
   "source": [
    "final_plot(data)"
   ]
  },
  {
   "cell_type": "markdown",
   "id": "80dfe843-c07f-49d6-b10d-63e6e8d593c0",
   "metadata": {
    "tags": []
   },
   "source": [
    "This works well when dealing with only one file, but becomes less useful when dealing with a large number of files. To better access information from large datasets, we can convert the data contained within the LiPD files into an Excel document.\n",
    "\n",
    "There are some LiPD functions that can help us do this, but unfortunately, not every `Lipd` file will have been formatted in the same way, so there is some tweaking we need to do first.\n",
    "\n",
    "The example below has been written to handle large datasets that contain the common errors, such as duplicate variables, but it is not exhaustive. If you find any more in your dataset, make sure to tweak the code to handle them.\n",
    "\n",
    "#### Summarizing\n",
    "\n",
    "Let's start by loading a large dataset:"
   ]
  },
  {
   "cell_type": "code",
   "execution_count": null,
   "id": "44784356-f339-4ff6-a750-b15e219c6de8",
   "metadata": {
    "tags": []
   },
   "outputs": [],
   "source": [
    "path = 'C:/Users/anast/Desktop/Aus_LiPD_data' #Define the path to the file or directory - this file is available in the assignment 2 folder, under \n",
    "\n",
    "data = lipd.readLipd(usr_path = path)\n",
    "ts = lipd.extractTs(data)"
   ]
  },
  {
   "cell_type": "markdown",
   "id": "718356a2-b6ff-4f28-b079-563a6893ffe6",
   "metadata": {},
   "source": [
    "Now, let's create a table to summarize our dataset."
   ]
  },
  {
   "cell_type": "code",
   "execution_count": null,
   "id": "1aafea73-ea79-4231-85f9-cddb8fdd229f",
   "metadata": {
    "tags": []
   },
   "outputs": [],
   "source": [
    "#Creating the table \n",
    "# import csv\n",
    "# import pandas as pd\n",
    "# def make_table(data):\n",
    "#     header = ['Dataset Name', 'Archive Type', 'Proxy Type', 'Minimum Age', 'Maximum Age', 'Longitude', 'Latitude', 'Max Resolution', 'Min Resolution', ]\n",
    "\n",
    "#     with open('data2.csv', 'w', encoding='UTF8', newline=\"\") as f:\n",
    "#         ana = csv.writer(f)\n",
    "#         ana.writerow(header)\n",
    "\n",
    "#         for item in ts: #naming the variable keys for table input   \n",
    "#             archiveType = item[\"archiveType\"] #archive type = material used \n",
    "#             name = item[\"dataSetName\"]\n",
    "\n",
    "#             if any(x in item[\"paleoData_variableName\"] for x in {\"Snow accumulation water equivalent\", \"Negative Data Error\", \"Positive Age Uncertainty\", \"qualityCode\",\"Negative Age Uncertainty\", \"Positive Data Error\",\"age\", \"sedimentWeight\", \"waterContent\", \"depth\", \"label\", \"year\",\"uncertainty\", \"uncertaintyHigh\", \"uncertaintyLow\", \"Commentregardingreliability1\", \"reliable\", \"sampleID\", \"Laminae\"}):\n",
    "#                     continue #removing unwanted proxy types. Proxy types = what is measured \n",
    "#             else: proxyType = item[\"paleoData_variableName\"]\n",
    "\n",
    "\n",
    "#             if \"age\" in item: #minimum and maximum ages \n",
    "#                 min_age = min(map(float,item[\"age\"]))\n",
    "#                 max_age = max(map(float,item[\"age\"]))\n",
    "#             else:\n",
    "#                 min_age = \"\"\n",
    "#                 max_age = \"\"\n",
    "\n",
    "#             geo_meanLon = item[\"geo_meanLon\"] #location coordinates\n",
    "#             geo_meanLat = item[\"geo_meanLat\"]\n",
    "\n",
    "#             if \"paleoData_hasResolution_hasMaxValue\" in item: #maximum resolution \n",
    "#                 resolution_max_value = item[\"paleoData_hasResolution_hasMaxValue\"]\n",
    "#                 if resolution_max_value == \"nan\":\n",
    "#                     resolution_max_value = \"\"\n",
    "#             else: \n",
    "#                 resolution_max_value = \"\"\n",
    "\n",
    "#             if \"paleoData_hasResolution_hasMinValue\" in item: #minimum resolution\n",
    "#                 resolution_min_value = float(item[\"paleoData_hasResolution_hasMinValue\"])\n",
    "#                 if resolution_min_value == float(\"nan\"):\n",
    "#                     resolution_min_value = \"\"\n",
    "#             else:\n",
    "#                 resolution_min_value = \"\"\n",
    "\n",
    "#             data = [ #matching the variables defined above to the headers \n",
    "#                 name,\n",
    "#                 archiveType,\n",
    "#                 proxyType,\n",
    "#                 min_age,\n",
    "#                 max_age,\n",
    "#                 geo_meanLon,\n",
    "#                 geo_meanLat,\n",
    "#                 resolution_max_value,\n",
    "#                 resolution_min_value\n",
    "#             ]\n",
    "#             ana.writerow(data)\n",
    "#         return pd.read_table('data2.csv', sep=',', index_col=0)"
   ]
  },
  {
   "cell_type": "code",
   "execution_count": null,
   "id": "400a29cc-49f7-4424-bb3d-82e7f9d3df72",
   "metadata": {},
   "outputs": [],
   "source": [
    "make_table(data)"
   ]
  },
  {
   "cell_type": "markdown",
   "id": "e3a3b4e6-d4eb-4e7e-93db-a85484f2ae5e",
   "metadata": {},
   "source": [
    "Looks good - but we are not done! There are more meaningful ways to display this data.\n",
    "\n",
    "Let's start by plotting the data on a temporal scale:"
   ]
  },
  {
   "cell_type": "markdown",
   "id": "d1256ddb-e563-41ed-b157-046e2e1c2ae0",
   "metadata": {},
   "source": [
    "#### Plotting\n"
   ]
  },
  {
   "cell_type": "code",
   "execution_count": null,
   "id": "3a7fd7d1-e292-4282-9698-31ad3fb313eb",
   "metadata": {},
   "outputs": [],
   "source": [
    "#Creating the bar graph\n",
    "import numpy\n",
    "import matplotlib.pyplot as plt\n",
    "import matplotlib.ticker as ticker\n",
    "\n",
    "ax = plt.axes()\n",
    "plt.autoscale(True)\n",
    "ax.yaxis.set_major_locator(ticker.NullLocator())\n",
    "\n",
    "\n",
    "res = pd.read_table('data2.csv', sep=',')\n",
    "res = res.drop_duplicates(subset=[\"Longitude\", \"Latitude\"], keep=\"first\") #This removes any duplicates (based on longitude and latitude)\n",
    "# res = res.drop_duplicates(subset=[\"Minimum Age\", \"Maximum Age\"], keep=\"first\") #This removes any duplicates (based on age)\n",
    "\n",
    "res = res.sort_values([\"Latitude\"]) #sorting the table by latitude - you can sort by any of the keys\n",
    "\n",
    "# List of all archive types (there are more but they are variations of the below (e.g. 'lake sediment' and 'LakeSediment')\n",
    "archive_types = [\"Coral\", \"Lake Sediment\", \"Marine Sediment\", \"Tree\", \"Peat\", \"Sediment\", \"Leaf material\", \"Ostracod\", \"Foraminifera\", \"Speleothem\"]\n",
    "\n",
    "# def get_archive_num(archive_type): \n",
    "#     # Convert archive type to a number (used for coloring).\n",
    "#     # Deal with duplicates, e.g. 'Lake Sediment' = 'lake sediment' = 'LakeSediment' = 1\n",
    "#     for i, item in enumerate(archive_types):\n",
    "#         if archive_type.lower().replace(\" \",\"\") == item.lower().replace(\" \",\"\"):\n",
    "#             return i\n",
    "        \n",
    "#     # Special case\n",
    "#     if archive_type.lower().replace(\" \",\"\") == \"treering\":\n",
    "#         return archive_types.index(\"Tree\")\n",
    "#     raise ValueError(f\"Unkown archive type: {archive_type}\")\n",
    "\n",
    "\n",
    "# colours: https://matplotlib.org/stable/tutorials/colors/colormaps.html\n",
    "colors = plt.get_cmap('Set3').colors\n",
    "\n",
    "for i in range(0, len(res)):\n",
    "    x = [res[\"Minimum Age\"].values[i], res[\"Maximum Age\"].values[i]]\n",
    "    y = [res[\"Dataset Name\"].values[i] + str(i), res[\"Dataset Name\"].values[i] + str(i)]\n",
    "    archive_type = res[\"Archive Type\"].values[i]\n",
    "    if ((not numpy.isnan(x[0])) and (not numpy.isnan(x[1]))): \n",
    "        archive_type = res[\"Archive Type\"].values[i]\n",
    "        plt.plot(x, y, c=colors[get_archive_num(res[\"Archive Type\"].values[i])], solid_capstyle='round')\n",
    "     \n",
    "        \n",
    "plt.title(\"Age Ranges for Archive Data\")\n",
    "ax.set_facecolor(\"white\")\n",
    "# ax.set_xscale('log') #If you have data spanning hundreds of thousands of years, use a log scale.\n",
    "\n",
    "# Create legend\n",
    "import matplotlib.patches as mpatches\n",
    "patches = [mpatches.Patch(color=colors[get_archive_num(archive_type)], label=archive_type) for archive_type in archive_types]\n",
    "ax.legend(handles=patches, bbox_to_anchor=(1.09, 0.8), loc='upper left', borderaxespad=0)\n",
    "plt.xlim([0, 2022]) #I have set a limit on the axis, but you can modify this.\n",
    "\n",
    "#Make the figure\n",
    "\n",
    "plt.xlabel('year (CE)') \n",
    "plt.ylabel('Latitude')\n",
    "plt.show()\n",
    "\n",
    "\n",
    "\n"
   ]
  },
  {
   "cell_type": "code",
   "execution_count": null,
   "id": "ccf0e92e-14ee-466b-bb5b-9e6c368feb3e",
   "metadata": {},
   "outputs": [],
   "source": [
    "type(i)"
   ]
  },
  {
   "cell_type": "markdown",
   "id": "efc352b3-11e5-466b-9e25-2d9a57b6c82e",
   "metadata": {
    "tags": []
   },
   "source": [
    "#### Making a map \n",
    "\n",
    "Plotting the data on a spatial scale is just as useful for visualising.\n",
    "In this example, we are using cartopy to make the map, which makes it easy to edit it whichever way you need. \n",
    "\n",
    "Guides on how to modify the map are available here: [scitools](https://scitools.org.uk/cartopy/docs/latest/getting_started/index.html)."
   ]
  },
  {
   "cell_type": "code",
   "execution_count": null,
   "id": "783d857b-b072-4a5d-ae36-c1398f344207",
   "metadata": {},
   "outputs": [],
   "source": [
    "# import cartopy.crs as ccrs\n",
    "# import cartopy.feature as cfeature\n",
    "# import matplotlib.pyplot as plt\n",
    "# import sys\n",
    "# from itertools import combinations\n",
    "# from datetime import datetime\n",
    "# import random\n",
    "# import warnings\n",
    "\n",
    "#Creating a map \n",
    "ax = plt.axes(projection = ccrs.PlateCarree())\n",
    "plt.title('Distribution of Archive')\n",
    "# ax.set_extent([100, 180, -60, 10], ccrs.PlateCarree())\n",
    "ax.set_extent([100, 180, 10, -60], ccrs.PlateCarree())\n",
    "\n",
    "ax.coastlines(resolution='110m')\n",
    "gl = ax.gridlines(crs=ccrs.PlateCarree(), draw_labels=True,\n",
    "                  linewidth=2, color='gray', alpha=0.5, linestyle='--')\n",
    "#Changing Axes\n",
    "gl.top_labels = False\n",
    "gl.left_labels = False\n",
    "gl.xlines = True\n",
    "gl.xlabel_style = {'size': 20, 'color': 'gray'}\n",
    "gl.xlabel_style = {'color': 'blue', 'weight': 'bold'}\n",
    "\n",
    "\n",
    "#Adding Features\n",
    "ax.add_feature(cfeature.LAND, color=\"lightgrey\", alpha=0.5)\n",
    "# ax.add_feature(cfeature.LAKES, color=\"lightblue\")\n",
    "# ax.add_feature(cfeature.RIVERS, edgecolor=\"lightblue\")\n",
    "# ax.stock_img() #to make realistic\n",
    "\n",
    "colors = plt.get_cmap('Set3').colors\n",
    "\n",
    "\n",
    "#adding points\n",
    "df = pd.read_csv('data2.csv')\n",
    "print(len(df.index))\n",
    "\n",
    "point_cols = [colors[get_archive_num(archive_type)] for archive_type in df[\"Archive Type\"]]\n",
    "\n",
    "plt.scatter(x=df.Longitude, y=df.Latitude,\n",
    "            color=point_cols,\n",
    "            s=10,\n",
    "            alpha=1,\n",
    "            transform=ccrs.PlateCarree())\n",
    "# print(len(df.index))\n",
    "\n",
    "# Create legend\n",
    "import matplotlib.patches as mpatches\n",
    "patches = [mpatches.Patch(color=colors[get_archive_num(archive_type)], label=archive_type) for archive_type in archive_types]\n",
    "ax.legend(handles=patches, bbox_to_anchor=(1.2, 0.15), loc='lower left', borderaxespad=0)\n",
    "\n",
    "plt.show()"
   ]
  },
  {
   "cell_type": "markdown",
   "id": "15f06f1d-10e8-4e1a-9c16-fa1f20e38047",
   "metadata": {},
   "source": [
    "If you're writing a paper, knowing how to make these figures will be useful :) \n",
    "\n",
    "#### Filtering\n",
    "\n",
    "However, in paleoclimate research, scientists are usually interested in data from a particular temporal or spatial scale, so when dealing with large datasets it is important to know how to filter. We can do this easily using the following function:\n",
    "\n",
    "<div class=\"alert alert-block alert-success\">\n",
    "<b>lipd.filterTs(ts, expression)</b> </div>\n",
    "\n",
    "This function will filter the data and create a new time series accordingly.  \n",
    "\n",
    "&nbsp;&nbsp;&nbsp;&nbsp;&nbsp;&nbsp;**Parameters:**  \n",
    "&nbsp;&nbsp;&nbsp;&nbsp;&nbsp;&nbsp; expression(Str): Extression  \n",
    "&nbsp;&nbsp;&nbsp;&nbsp;&nbsp;&nbsp; ts(list): time series \n",
    "\n",
    "&nbsp;&nbsp;&nbsp;&nbsp;&nbsp;&nbsp;**Returns:**  \n",
    "&nbsp;&nbsp;&nbsp;&nbsp;&nbsp;&nbsp; new_ts(list): filtered time series \n",
    "\n",
    "**Example:** "
   ]
  },
  {
   "cell_type": "code",
   "execution_count": null,
   "id": "ffb0b2d7-7f66-4077-9e80-b16a659f8e61",
   "metadata": {},
   "outputs": [],
   "source": [
    "ts = lipd.filterTs(ts, 'geo_meanLat < 0') #Filtering for files below 0 latitude (this covers Oceania)\n",
    "ts = lipd.filterTs(ts, 'archiveType == marine sediment') #Filtering for archives \n",
    "ts = lipd.filterTs(ts, 'paleoData_variableName == mg/ca') #Filtering for proxies "
   ]
  },
  {
   "cell_type": "code",
   "execution_count": null,
   "id": "c9ea06e1-f96f-40d1-86a4-e0c0e637e20e",
   "metadata": {},
   "outputs": [],
   "source": [
    "final_plot(data)"
   ]
  },
  {
   "cell_type": "markdown",
   "id": "5c2ffcab-1ef4-46cc-ad27-22e2276dd1ca",
   "metadata": {},
   "source": [
    "next module...\n",
    "\n",
    "\n",
    "add bibliograph, cartopy."
   ]
  },
  {
   "cell_type": "code",
   "execution_count": null,
   "id": "f71ae5e8-9c1d-45cf-bbcf-2112b41fb109",
   "metadata": {},
   "outputs": [],
   "source": []
  }
 ],
 "metadata": {
  "kernelspec": {
   "display_name": "pyleoenv",
   "language": "python",
   "name": "pyleoenv"
  },
  "language_info": {
   "codemirror_mode": {
    "name": "ipython",
    "version": 3
   },
   "file_extension": ".py",
   "mimetype": "text/x-python",
   "name": "python",
   "nbconvert_exporter": "python",
   "pygments_lexer": "ipython3",
   "version": "3.9.12"
  }
 },
 "nbformat": 4,
 "nbformat_minor": 5
}
