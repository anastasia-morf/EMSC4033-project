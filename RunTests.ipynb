{
 "cells": [
  {
   "cell_type": "code",
   "execution_count": 1,
   "id": "6326937f-4860-4848-ad26-53ee196e2088",
   "metadata": {},
   "outputs": [],
   "source": [
    "# from src import my_functions\n",
    "from src.my_functions import *"
   ]
  },
  {
   "cell_type": "code",
   "execution_count": 2,
   "id": "a467983e-b48d-45bc-ab91-af0219ce41f3",
   "metadata": {},
   "outputs": [
    {
     "name": "stdout",
     "output_type": "stream",
     "text": [
      "============================= test session starts =============================\n",
      "platform win32 -- Python 3.9.12, pytest-7.1.2, pluggy-1.0.0\n",
      "rootdir: C:\\Users\\anast\\EMSC4033-2\n",
      "plugins: anyio-3.6.1\n",
      "collected 5 items\n",
      "\n",
      "Tests\\test_functions.py .....                                            [100%]\n",
      "\n",
      "============================== warnings summary ===============================\n",
      "..\\Anaconda3\\envs\\pyleoenv\\lib\\site-packages\\lipd\\timeseries.py:290: 674 warnings\n",
      "Tests/test_functions.py: 674 warnings\n",
      "  C:\\Users\\anast\\Anaconda3\\envs\\pyleoenv\\lib\\site-packages\\lipd\\timeseries.py:290: DeprecationWarning: The 'warn' method is deprecated, use 'warning' instead\n",
      "    logger_ts.warn(\"extract_special: KeyError: 'units' not found, {}\".format(e))\n",
      "\n",
      "-- Docs: https://docs.pytest.org/en/stable/how-to/capture-warnings.html\n",
      "====================== 5 passed, 1348 warnings in 55.91s ======================\n"
     ]
    }
   ],
   "source": [
    "! pytest"
   ]
  },
  {
   "cell_type": "code",
   "execution_count": null,
   "id": "e0fbf563-075c-457d-b04b-81ad9f5d09db",
   "metadata": {},
   "outputs": [],
   "source": []
  }
 ],
 "metadata": {
  "kernelspec": {
   "display_name": "pyleoenv",
   "language": "python",
   "name": "pyleoenv"
  },
  "language_info": {
   "codemirror_mode": {
    "name": "ipython",
    "version": 3
   },
   "file_extension": ".py",
   "mimetype": "text/x-python",
   "name": "python",
   "nbconvert_exporter": "python",
   "pygments_lexer": "ipython3",
   "version": "3.9.12"
  }
 },
 "nbformat": 4,
 "nbformat_minor": 5
}
