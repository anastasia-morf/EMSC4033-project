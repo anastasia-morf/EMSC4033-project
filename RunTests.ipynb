{
 "cells": [
  {
   "cell_type": "code",
   "execution_count": 4,
   "id": "4ac8584f-3138-42af-bf28-1174bb44a367",
   "metadata": {},
   "outputs": [
    {
     "ename": "ImportError",
     "evalue": "cannot import name 'functions' from 'src' (unknown location)",
     "output_type": "error",
     "traceback": [
      "\u001b[1;31m---------------------------------------------------------------------------\u001b[0m",
      "\u001b[1;31mImportError\u001b[0m                               Traceback (most recent call last)",
      "Input \u001b[1;32mIn [4]\u001b[0m, in \u001b[0;36m<cell line: 1>\u001b[1;34m()\u001b[0m\n\u001b[1;32m----> 1\u001b[0m \u001b[38;5;28;01mfrom\u001b[39;00m \u001b[38;5;21;01msrc\u001b[39;00m \u001b[38;5;28;01mimport\u001b[39;00m functions\n\u001b[0;32m      2\u001b[0m \u001b[38;5;28;01mfrom\u001b[39;00m \u001b[38;5;21;01msrc\u001b[39;00m\u001b[38;5;21;01m.\u001b[39;00m\u001b[38;5;21;01mfunctions\u001b[39;00m \u001b[38;5;28;01mimport\u001b[39;00m \u001b[38;5;241m*\u001b[39m\n",
      "\u001b[1;31mImportError\u001b[0m: cannot import name 'functions' from 'src' (unknown location)"
     ]
    }
   ],
   "source": [
    "from src import functions\n",
    "from src.functions import *\n"
   ]
  },
  {
   "cell_type": "code",
   "execution_count": 3,
   "id": "a6cf9a02-3300-411c-9e5c-ec5e4ec0ad7f",
   "metadata": {},
   "outputs": [
    {
     "ename": "ModuleNotFoundError",
     "evalue": "No module named 'pytest'",
     "output_type": "error",
     "traceback": [
      "\u001b[1;31m---------------------------------------------------------------------------\u001b[0m",
      "\u001b[1;31mModuleNotFoundError\u001b[0m                       Traceback (most recent call last)",
      "Input \u001b[1;32mIn [3]\u001b[0m, in \u001b[0;36m<cell line: 1>\u001b[1;34m()\u001b[0m\n\u001b[1;32m----> 1\u001b[0m \u001b[38;5;28;01mimport\u001b[39;00m \u001b[38;5;21;01mpytest\u001b[39;00m\n",
      "\u001b[1;31mModuleNotFoundError\u001b[0m: No module named 'pytest'"
     ]
    }
   ],
   "source": [
    "! pytest "
   ]
  },
  {
   "cell_type": "markdown",
   "id": "412ad954-7587-42cf-8185-cc379b74b049",
   "metadata": {},
   "source": [
    "remove below"
   ]
  },
  {
   "cell_type": "code",
   "execution_count": null,
   "id": "3080e743-30ff-4b30-b314-6951fd3f281a",
   "metadata": {},
   "outputs": [],
   "source": [
    "import lipd\n",
    "path = 'C:/Users/anast/Desktop/LiPD' #Define the path to the file or directory\n",
    "\n",
    "d = lipd.readLipd(usr_path = path)\n",
    "ts = lipd.extractTs(d)"
   ]
  },
  {
   "cell_type": "code",
   "execution_count": null,
   "id": "9042e5bb-065e-4a7c-a065-c0fdbbef3ccf",
   "metadata": {},
   "outputs": [],
   "source": [
    "#Checking if variable is in ts\n",
    "#ts = lipd.filterTs(ts,'geo_meanLat < 0')\n",
    "for item in ts:\n",
    "    if \"pub1_doi\" in item:\n",
    "        #pass\n",
    "        print(item[\"pub1_doi\"])\n",
    "    else:\n",
    "        #pass\n",
    "        print(\"BUT NOT IN THIS ONE\")\n",
    "        #print(item.keys())\n",
    "  \n",
    "# Checking for a specific file \n",
    "# for x in ts:\n",
    " #   if \"surprise\" in str(x).lower():\n",
    "  #      print(x)"
   ]
  },
  {
   "cell_type": "code",
   "execution_count": null,
   "id": "de81b709-c422-4a5c-8b16-1596eaf9027c",
   "metadata": {},
   "outputs": [],
   "source": [
    "#using the lipd validator on our files...\n",
    "lipd.validate(d)\n"
   ]
  },
  {
   "cell_type": "code",
   "execution_count": null,
   "id": "71e774c8-7b30-49fd-9807-8e5d59ab5b68",
   "metadata": {},
   "outputs": [],
   "source": []
  }
 ],
 "metadata": {
  "kernelspec": {
   "display_name": "pyleoenv",
   "language": "python",
   "name": "pyleoenv"
  },
  "language_info": {
   "codemirror_mode": {
    "name": "ipython",
    "version": 3
   },
   "file_extension": ".py",
   "mimetype": "text/x-python",
   "name": "python",
   "nbconvert_exporter": "python",
   "pygments_lexer": "ipython3",
   "version": "3.9.12"
  }
 },
 "nbformat": 4,
 "nbformat_minor": 5
}
