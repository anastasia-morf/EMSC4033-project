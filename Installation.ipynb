{
 "cells": [
  {
   "cell_type": "markdown",
   "id": "88d5bd20-7f52-4f49-bbaf-f2fba5a73de7",
   "metadata": {},
   "source": [
    "# Introduction to Python utilities for LiPD files\n",
    "\n",
    "### Background \n",
    "\n",
    "Paleoclimatology is a highly collaborative field that relies on online databases for data sharing. However, accessing, analyzing, modelling and visualizing paleoclimate observations can be extremely time consuming, especially when dealing with large data volumes. \n",
    "\n",
    "`LiPD` (Linked Paleo Data) is a convenient tool that provides a standardized format for storing and exchanging paleoclimate data, enabling quick querying and extraction. But there are some tricks to know before we can use it.\n",
    "\n",
    "This set of modules will give you and introduction to Python utilities for LiPDs. These include: \n",
    "\n",
    "\n",
    "\n",
    "\n"
   ]
  },
  {
   "cell_type": "markdown",
   "id": "ff83f6cb-e3eb-419f-b6cf-c5c8a85c3246",
   "metadata": {},
   "source": [
    "### <font color='teal'>Installation</font>\n",
    "\n",
    "\n",
    "This module provides a guide to install `LiPD` on your platform.\n",
    "\n",
    "It is recommended to use Anaconda or Miniconda for installation, with LiPD set up in its own conda environment. To install these on your platform, follow the instructions from the official [Conda Installation Guide](https://docs.conda.io/projects/conda/en/latest/user-guide/install/index.html).\n",
    "\n",
    "#### Setting up a new environment"
   ]
  },
  {
   "cell_type": "markdown",
   "id": "6b160d3e-e3fa-46e1-82f3-6a9cc4cc16ba",
   "metadata": {},
   "source": [
    "Setting up a new environment will allow you to use the required version of package dependencies and Python for `LiPD` without creating any conflicts with anything else. \n",
    "\n",
    "To start, open the `Anaconda Prompt` terminal on your platform, and use the following commands:\n",
    "\n",
    "<b> 1. Create an environment <b>\n",
    "\n",
    "<div class=\"alert alert-block alert-info\">\n",
    "conda create --name newenv.</div>\n",
    "\n",
    "<b> 2. Activate environment <b>\n",
    "    \n",
    "<div class=\"alert alert-block alert-info\">\n",
    "conda activate newenv</div>  \n",
    "\n",
    "\n",
    "#### Installing Dependencies\n",
    "<br>\n",
    "    \n",
    "<b> 3. Install JupyterLab <b>  \n",
    "\n",
    "This is optional, but required if you want to access your virtual environment inside JupyterLab:\n",
    "    \n",
    "<div class=\"alert alert-block alert-info\">\n",
    "pip install jupyterlab</div>\n",
    "\n",
    "<div class=\"alert alert-block alert-info\">\n",
    "pip install ipykernel</div>\n",
    "\n",
    "  \n",
    "<b> 4. Install LiPD <b> #or pyleoclim\n",
    "    \n",
    "<div class=\"alert alert-block alert-info\">\n",
    "pip install LiPD</div>\n",
    "\n",
    "Now, you can access your new environment with the installed `LiPD` on JupyterLab: \n",
    "    \n",
    "<div class=\"alert alert-block alert-info\">\n",
    "jupyter lab </div>\n",
    "\n",
    "If there are any difficulties with installing these, chack out the list of the dependencis in ..."
   ]
  },
  {
   "cell_type": "code",
   "execution_count": null,
   "id": "5eb75ffa-bb99-463d-9051-24b0766c49b4",
   "metadata": {},
   "outputs": [],
   "source": []
  }
 ],
 "metadata": {
  "kernelspec": {
   "display_name": "pyleoenv",
   "language": "python",
   "name": "pyleoenv"
  },
  "language_info": {
   "codemirror_mode": {
    "name": "ipython",
    "version": 3
   },
   "file_extension": ".py",
   "mimetype": "text/x-python",
   "name": "python",
   "nbconvert_exporter": "python",
   "pygments_lexer": "ipython3",
   "version": "3.9.12"
  }
 },
 "nbformat": 4,
 "nbformat_minor": 5
}
